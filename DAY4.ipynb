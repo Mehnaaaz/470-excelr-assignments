{
 "cells": [
  {
   "cell_type": "code",
   "execution_count": 20,
   "metadata": {},
   "outputs": [
    {
     "name": "stdout",
     "output_type": "stream",
     "text": [
      "Ths sum of all even numbers between 1 and 4 is: 6\n"
     ]
    }
   ],
   "source": [
    "# Write a Python program to calculate the sum of all even numbers between 1 and a given positive integer n\n",
    "n=int(input(\"Enter a positive integer:\"))\n",
    "num=0\n",
    "\n",
    "if(n<0):\n",
    "    print(\"Enter a positive integer!!!!!!\")\n",
    "else:\n",
    "     for i in range(1,n+1):\n",
    "            if i%2==0:\n",
    "                 num=num+i\n",
    "print(\"Ths sum of all even numbers between 1 and\",n,\"is:\",num)\n",
    "        "
   ]
  },
  {
   "cell_type": "code",
   "execution_count": null,
   "metadata": {},
   "outputs": [],
   "source": []
  }
 ],
 "metadata": {
  "kernelspec": {
   "display_name": "Python 3",
   "language": "python",
   "name": "python3"
  },
  "language_info": {
   "codemirror_mode": {
    "name": "ipython",
    "version": 3
   },
   "file_extension": ".py",
   "mimetype": "text/x-python",
   "name": "python",
   "nbconvert_exporter": "python",
   "pygments_lexer": "ipython3",
   "version": "3.13.1"
  }
 },
 "nbformat": 4,
 "nbformat_minor": 2
}
