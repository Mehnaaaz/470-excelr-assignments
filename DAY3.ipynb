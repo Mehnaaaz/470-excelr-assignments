{
 "cells": [
  {
   "cell_type": "code",
   "execution_count": 2,
   "metadata": {},
   "outputs": [
    {
     "data": {
      "text/plain": [
       "'Write a Python program that takes a student\\'s marks in three subjects as input.\\nIf the average is greater than or equal to 90, print \"Grade: A\".\\nIf the average is between 80 and 89, print \"Grade: B\".\\nIf the average is between 70 and 79, print \"Grade: C\".\\nOtherwise, print \"Grade: Fail\".'"
      ]
     },
     "execution_count": 2,
     "metadata": {},
     "output_type": "execute_result"
    }
   ],
   "source": [
    "'''Write a Python program that takes a student's marks in three subjects as input.\n",
    "If the average is greater than or equal to 90, print \"Grade: A\".\n",
    "If the average is between 80 and 89, print \"Grade: B\".\n",
    "If the average is between 70 and 79, print \"Grade: C\".\n",
    "Otherwise, print \"Grade: Fail\".'''\n"
   ]
  },
  {
   "cell_type": "code",
   "execution_count": 5,
   "metadata": {},
   "outputs": [
    {
     "name": "stdout",
     "output_type": "stream",
     "text": [
      "Grade: A\n"
     ]
    }
   ],
   "source": [
    "eng=int(input(\"Enter English marks:\"))\n",
    "math=int(input(\"Enter Math marks:\"))\n",
    "sc=int(input(\"Enter Science marks:\"))\n",
    "\n",
    "avg=(eng+math+sc)/3\n",
    "\n",
    "if avg>=90:\n",
    "    print(\"Grade: A\")\n",
    "elif 80<=avg<=89:\n",
    "    print(\"Grade: B\")\n",
    "elif 70<=avg<=79:\n",
    "    print(\"Grade: C\")\n",
    "else:\n",
    "    print(\"Grade: Fail\")"
   ]
  },
  {
   "cell_type": "code",
   "execution_count": null,
   "metadata": {},
   "outputs": [],
   "source": []
  }
 ],
 "metadata": {
  "kernelspec": {
   "display_name": "Python 3",
   "language": "python",
   "name": "python3"
  },
  "language_info": {
   "codemirror_mode": {
    "name": "ipython",
    "version": 3
   },
   "file_extension": ".py",
   "mimetype": "text/x-python",
   "name": "python",
   "nbconvert_exporter": "python",
   "pygments_lexer": "ipython3",
   "version": "3.13.1"
  }
 },
 "nbformat": 4,
 "nbformat_minor": 2
}
