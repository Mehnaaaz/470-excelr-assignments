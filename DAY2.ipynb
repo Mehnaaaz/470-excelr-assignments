{
 "cells": [
  {
   "cell_type": "code",
   "execution_count": 1,
   "metadata": {},
   "outputs": [
    {
     "name": "stdout",
     "output_type": "stream",
     "text": [
      "['apple', 'kiwi', 'jackfruit', 'dragon fruit', 'sapota']\n",
      "Element at index 3 is: dragon fruit\n"
     ]
    }
   ],
   "source": [
    "#LIST\n",
    "fruits=['apple','kiwi','jackfruit','dragon fruit','sapota']\n",
    "print(fruits)\n",
    "print(\"Element at index 3 is:\",fruits[3])\n"
   ]
  },
  {
   "cell_type": "code",
   "execution_count": 3,
   "metadata": {},
   "outputs": [
    {
     "name": "stdout",
     "output_type": "stream",
     "text": [
      "('potato', 'cucumber', 'eggplant', 'okra')\n",
      "Element at index 0 is: potato\n"
     ]
    }
   ],
   "source": [
    "#TUPLE\n",
    "vegetables=('potato','cucumber','eggplant','okra')\n",
    "print(vegetables)\n",
    "print(\"Element at index 0 is:\",vegetables[0])\n"
   ]
  },
  {
   "cell_type": "code",
   "execution_count": 4,
   "metadata": {},
   "outputs": [
    {
     "name": "stdout",
     "output_type": "stream",
     "text": [
      "{'name': 'trasha', 'age': 69, 'mobile': 8977920424, 'married': True}\n",
      "Element at key 'mobile': 8977920424\n"
     ]
    }
   ],
   "source": [
    "#DICT\n",
    "details={\"name\":\"trasha\", \"age\":69, \"mobile\":8977920424, \"married\":True }\n",
    "print(details)\n",
    "print(\"Element at key 'mobile':\",details.get(\"mobile\"))"
   ]
  },
  {
   "cell_type": "code",
   "execution_count": null,
   "metadata": {},
   "outputs": [],
   "source": []
  }
 ],
 "metadata": {
  "kernelspec": {
   "display_name": "Python 3",
   "language": "python",
   "name": "python3"
  },
  "language_info": {
   "codemirror_mode": {
    "name": "ipython",
    "version": 3
   },
   "file_extension": ".py",
   "mimetype": "text/x-python",
   "name": "python",
   "nbconvert_exporter": "python",
   "pygments_lexer": "ipython3",
   "version": "3.13.1"
  }
 },
 "nbformat": 4,
 "nbformat_minor": 2
}
